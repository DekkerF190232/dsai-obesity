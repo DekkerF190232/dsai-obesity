{
 "cells": [
  {
   "cell_type": "code",
   "execution_count": 1,
   "id": "initial_id",
   "metadata": {
    "collapsed": true,
    "ExecuteTime": {
     "end_time": "2024-11-18T08:58:18.859687400Z",
     "start_time": "2024-11-18T08:58:18.846693700Z"
    }
   },
   "outputs": [],
   "source": [
    "import pandas as pd\n",
    "\n",
    "# Load the data from the user-provided text into a pandas dataframe\n",
    "data = \"\"\n",
    "\n",
    "file_path = 'Obesity_Dataset/Obesity_Dataset.csv'\n",
    "with open(file_path, 'r') as file:\n",
    "    data = file.read()\n",
    "\n",
    "columns = [\n",
    "    \"Sex\", \"Age\", \"Height\", \"Overweight_Obese_Family\", \"Consumption_of_Fast_Food\",\n",
    "    \"Frequency_of_Consuming_Vegetables\", \"Number_of_Main_Meals_Daily\", \"Food_Intake_Between_Meals\",\n",
    "    \"Smoking\", \"Liquid_Intake_Daily\", \"Calculation_of_Calorie_Intake\", \"Physical_Exercise\",\n",
    "    \"Schedule_Dedicated_to_Technology\", \"Type_of_Transportation_Used\", \"Class\"\n",
    "]\n",
    "\n",
    "# Read the data into a pandas DataFrame\n",
    "df = pd.read_csv(pd.io.common.StringIO(data), header=None, names=columns)"
   ]
  },
  {
   "cell_type": "code",
   "execution_count": 2,
   "outputs": [
    {
     "name": "stdout",
     "output_type": "stream",
     "text": [
      "Klassen im Datensatz:\n",
      "2    658\n",
      "3    592\n",
      "4    287\n",
      "1     73\n",
      "Name: Class, dtype: int64\n",
      "\n",
      "Ist der Datensatz ausgeglichen? False\n"
     ]
    }
   ],
   "source": [
    "classes = df['Class'].value_counts()\n",
    "print(\"Klassen im Datensatz:\")\n",
    "print(classes)\n",
    "\n",
    "# Überprüfen, ob der Datensatz ausgeglichen ist\n",
    "is_balanced = classes.min() / classes.max() > 0.5\n",
    "print(\"\\nIst der Datensatz ausgeglichen?\", is_balanced)"
   ],
   "metadata": {
    "collapsed": false,
    "ExecuteTime": {
     "end_time": "2024-11-18T08:58:37.267682100Z",
     "start_time": "2024-11-18T08:58:37.248491200Z"
    }
   },
   "id": "ca2681c4502dbfe7"
  },
  {
   "cell_type": "code",
   "execution_count": 3,
   "outputs": [
    {
     "name": "stdout",
     "output_type": "stream",
     "text": [
      "Accuracy: 78.88%\n",
      "\n",
      "Classification Report:\n",
      "              precision    recall  f1-score   support\n",
      "\n",
      "           0       0.85      0.85      0.85        13\n",
      "           1       0.85      0.86      0.85       125\n",
      "           2       0.78      0.73      0.76       131\n",
      "           3       0.67      0.75      0.71        53\n",
      "\n",
      "    accuracy                           0.79       322\n",
      "   macro avg       0.79      0.80      0.79       322\n",
      "weighted avg       0.79      0.79      0.79       322\n"
     ]
    }
   ],
   "source": [
    "import pandas as pd\n",
    "from sklearn.model_selection import train_test_split\n",
    "from sklearn.tree import DecisionTreeClassifier\n",
    "from sklearn.metrics import accuracy_score, classification_report\n",
    "from sklearn.preprocessing import LabelEncoder\n",
    "\n",
    "# Handle categorical data by encoding them\n",
    "le = LabelEncoder()\n",
    "\n",
    "# Encoding categorical columns that are in string form\n",
    "df['Sex'] = le.fit_transform(df['Sex'])\n",
    "df['Overweight_Obese_Family'] = le.fit_transform(df['Overweight_Obese_Family'])\n",
    "df['Consumption_of_Fast_Food'] = le.fit_transform(df['Consumption_of_Fast_Food'])\n",
    "df['Frequency_of_Consuming_Vegetables'] = le.fit_transform(df['Frequency_of_Consuming_Vegetables'])\n",
    "df['Number_of_Main_Meals_Daily'] = le.fit_transform(df['Number_of_Main_Meals_Daily'])\n",
    "df['Food_Intake_Between_Meals'] = le.fit_transform(df['Food_Intake_Between_Meals'])\n",
    "df['Smoking'] = le.fit_transform(df['Smoking'])\n",
    "df['Liquid_Intake_Daily'] = le.fit_transform(df['Liquid_Intake_Daily'])\n",
    "df['Calculation_of_Calorie_Intake'] = le.fit_transform(df['Calculation_of_Calorie_Intake'])\n",
    "df['Physical_Exercise'] = le.fit_transform(df['Physical_Exercise'])\n",
    "df['Schedule_Dedicated_to_Technology'] = le.fit_transform(df['Schedule_Dedicated_to_Technology'])\n",
    "df['Type_of_Transportation_Used'] = le.fit_transform(df['Type_of_Transportation_Used'])\n",
    "df['Class'] = le.fit_transform(df['Class'])\n",
    "\n",
    "# Split the data into features (X) and target (y)\n",
    "X = df.drop('Class', axis=1)  # Features\n",
    "y = df['Class']  # Target\n",
    "\n",
    "# Split the data into training and test sets\n",
    "X_train, X_test, y_train, y_test = train_test_split(X, y, test_size=0.2, random_state=42)\n",
    "\n",
    "# Initialize the decision tree classifier\n",
    "clf = DecisionTreeClassifier(random_state=42)\n",
    "\n",
    "# Train the model\n",
    "clf.fit(X_train, y_train)\n",
    "\n",
    "# Make predictions\n",
    "y_pred = clf.predict(X_test)\n",
    "\n",
    "# Evaluate the model\n",
    "accuracy = accuracy_score(y_test, y_pred)\n",
    "print(f\"Accuracy: {accuracy * 100:.2f}%\")\n",
    "\n",
    "# Print classification report\n",
    "print(\"\\nClassification Report:\")\n",
    "print(classification_report(y_test, y_pred))"
   ],
   "metadata": {
    "collapsed": false,
    "ExecuteTime": {
     "end_time": "2024-11-18T09:05:46.499794100Z",
     "start_time": "2024-11-18T09:05:45.556132200Z"
    }
   },
   "id": "4578c1db4ad2e2ac"
  },
  {
   "cell_type": "code",
   "execution_count": 6,
   "outputs": [
    {
     "name": "stdout",
     "output_type": "stream",
     "text": [
      "\n",
      "Confusion Matrix:\n",
      "[[ 11   2   0   0]\n",
      " [  1 107  17   0]\n",
      " [  1  14  96  20]\n",
      " [  0   3  10  40]]\n"
     ]
    }
   ],
   "source": [
    "from sklearn.metrics import confusion_matrix\n",
    "\n",
    "# Confusion matrix\n",
    "cm = confusion_matrix(y_test, y_pred)\n",
    "print(\"\\nConfusion Matrix:\")\n",
    "print(cm)"
   ],
   "metadata": {
    "collapsed": false,
    "ExecuteTime": {
     "end_time": "2024-11-18T09:15:01.298099700Z",
     "start_time": "2024-11-18T09:15:01.254628400Z"
    }
   },
   "id": "cc13d9a9eab3371d"
  },
  {
   "cell_type": "code",
   "execution_count": null,
   "outputs": [],
   "source": [],
   "metadata": {
    "collapsed": false
   },
   "id": "8220409e5e614d96"
  }
 ],
 "metadata": {
  "kernelspec": {
   "display_name": "Python 3",
   "language": "python",
   "name": "python3"
  },
  "language_info": {
   "codemirror_mode": {
    "name": "ipython",
    "version": 2
   },
   "file_extension": ".py",
   "mimetype": "text/x-python",
   "name": "python",
   "nbconvert_exporter": "python",
   "pygments_lexer": "ipython2",
   "version": "2.7.6"
  }
 },
 "nbformat": 4,
 "nbformat_minor": 5
}

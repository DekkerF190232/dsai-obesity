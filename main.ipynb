{
 "cells": [
  {
   "cell_type": "code",
   "execution_count": 3,
   "id": "initial_id",
   "metadata": {
    "collapsed": true,
    "ExecuteTime": {
     "end_time": "2024-10-07T06:35:13.929551800Z",
     "start_time": "2024-10-07T06:35:12.106252800Z"
    }
   },
   "outputs": [],
   "source": [
    "import arff\n",
    "import pandas as pd\n",
    "\n",
    "file_path = 'Obesity_Dataset/Obesity_Dataset.arff'\n",
    "\n",
    "with open(file_path, 'r') as file:\n",
    "    dataset = arff.load(file)\n",
    "\n",
    "data = dataset['data']\n",
    "columns = [attr[0] for attr in dataset['attributes']]\n",
    "\n",
    "df = pd.DataFrame(data, columns=columns)"
   ]
  },
  {
   "cell_type": "code",
   "execution_count": 4,
   "outputs": [],
   "source": [
    "print(df.head())"
   ],
   "metadata": {
    "collapsed": false,
    "ExecuteTime": {
     "end_time": "2024-10-07T06:35:13.929551800Z",
     "start_time": "2024-10-07T06:35:12.111101Z"
    }
   },
   "id": "f2625f61e2b5669d"
  }
 ],
 "metadata": {
  "kernelspec": {
   "display_name": "Python 3",
   "language": "python",
   "name": "python3"
  },
  "language_info": {
   "codemirror_mode": {
    "name": "ipython",
    "version": 2
   },
   "file_extension": ".py",
   "mimetype": "text/x-python",
   "name": "python",
   "nbconvert_exporter": "python",
   "pygments_lexer": "ipython2",
   "version": "2.7.6"
  }
 },
 "nbformat": 4,
 "nbformat_minor": 5
}

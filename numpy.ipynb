{
 "cells": [
  {
   "cell_type": "markdown",
   "source": [
    "# Obesity: Data Analysis\n",
    "\n",
    "The data has the following columns, which can be any of the following values:\n",
    "\n",
    "Attribute Feature Values\n",
    "* Sex\n",
    "    1. Male 712\n",
    "    2. Female 898\n",
    "* Age Values in integers (years)\n",
    "* Height Values in integers (cm)\n",
    "* Overweight/Obese Families\n",
    "    1. Yes 266\n",
    "    2. No 1344\n",
    "* Consumption of Fast Food\n",
    "    1. Yes 436\n",
    "    2. No 1174\n",
    "* Frequency of Consuming Vegetables\n",
    "    1. Rarely 400\n",
    "    2. Sometimes 708\n",
    "    3. Always 502\n",
    "* Number of Main Meals Daily\n",
    "    1. 1-2 444\n",
    "    2. 3 928\n",
    "    3. 3+ 238\n",
    "* Food Intake Between Meals\n",
    "    1. Rarely 346\n",
    "    2. Sometimes 564\n",
    "    3. Usually 417\n",
    "    4. Always 283\n",
    "* Smoking 1. Yes 492\n",
    "    2. No 118\n",
    "* Liquid Intake Daily\n",
    "    1. Amount smaller than one liter 456\n",
    "    2. Within the range of 1 to 2 liters 523\n",
    "    3. In excess of 2 liters 631\n",
    "* Calculation Of Calorie Intake 1. Yes 286\n",
    "    2. No 1324\n",
    "* Physical Exercise\n",
    "    1. No physical activity 206\n",
    "    2. In the range of 1-2 days 290\n",
    "    3. In the range of 3-4 days 370\n",
    "    4. In the range of 5-6 days 358\n",
    "    5. 6+ days 386\n",
    "* Schedule Dedicated to Technology\n",
    "    1. Between 0 and 2 hours 382\n",
    "    2. Between 3 and 5 hours 826\n",
    "    3. Exceeding five hours 402\n",
    "* Type of Transportation Used\n",
    "    1. Automobile 660\n",
    "    2. Motorbike 94\n",
    "    3. Bike 116\n",
    "    4. Public transportation 602\n",
    "    5. Walking 138\n",
    "* Class\n",
    "    1. Underweight 73\n",
    "    2. Normal 658\n",
    "    3. Overweight 592\n",
    "    4. Obesity 287\n",
    "\n",
    "The data was already sanitized, so there are no extreme values, also it largely consists of categorical data. The data is stored in a CSV file, with each row representing a person and each column representing a feature. The last column is the class of the person, which can be one of the following values: Underweight, Normal, Overweight, or Obesity."
   ],
   "metadata": {
    "collapsed": false
   },
   "id": "b7bf12db8fbce741"
  },
  {
   "cell_type": "markdown",
   "source": [
    "## Load Data"
   ],
   "metadata": {
    "collapsed": false
   },
   "id": "add1eff26e3bc8c"
  },
  {
   "cell_type": "code",
   "execution_count": 1,
   "id": "initial_id",
   "metadata": {
    "collapsed": true,
    "ExecuteTime": {
     "end_time": "2025-02-11T08:16:04.966397800Z",
     "start_time": "2025-02-11T08:16:04.946578300Z"
    }
   },
   "outputs": [],
   "source": [
    "import numpy as np\n",
    "\n",
    "# Load the data from the user-provided text into a numpy array\n",
    "data = \"\"\n",
    "\n",
    "file_path = 'Obesity_Dataset/Obesity_Dataset.csv'\n",
    "with open(file_path, 'r') as file:\n",
    "    data = file.read()\n",
    "\n",
    "# Split the data into rows and then columns (assuming the CSV uses commas)\n",
    "lines = data.splitlines()\n",
    "columns = [\n",
    "    \"Sex\", \"Age\", \"Height\", \"Overweight_Obese_Family\", \"Consumption_of_Fast_Food\",\n",
    "    \"Frequency_of_Consuming_Vegetables\", \"Number_of_Main_Meals_Daily\", \"Food_Intake_Between_Meals\",\n",
    "    \"Smoking\", \"Liquid_Intake_Daily\", \"Calculation_of_Calorie_Intake\", \"Physical_Exercise\",\n",
    "    \"Schedule_Dedicated_to_Technology\", \"Type_of_Transportation_Used\", \"Class\"\n",
    "]\n",
    "\n",
    "rows = [line.split(',') for line in lines]\n",
    "\n",
    "data_np = np.array(rows)\n",
    "\n",
    "numeric_data = data_np.astype(float)"
   ]
  },
  {
   "cell_type": "markdown",
   "source": [
    "## Analyze Data"
   ],
   "metadata": {
    "collapsed": false
   },
   "id": "47af04853335a799"
  },
  {
   "cell_type": "code",
   "execution_count": 2,
   "outputs": [
    {
     "name": "stdout",
     "output_type": "stream",
     "text": [
      "Column: Age\n",
      "Mean of column: 33.11552795031056\n",
      "Median of column: 32.0\n",
      "Standard deviation of column: 9.832021199648462\n",
      "Three lowest value for column: [18. 19. 20.]\n",
      "Three highest value for column: [52. 53. 54.]\n"
     ]
    }
   ],
   "source": [
    "# col_data = data_np[2].astype(float)\n",
    "c = 1\n",
    "col_data = numeric_data[:, c]\n",
    "print(\"Column:\", columns[c])\n",
    "\n",
    "mean_value = np.mean(col_data)\n",
    "median_value = np.median(col_data)\n",
    "std_value = np.std(col_data)\n",
    "\n",
    "Q1 = np.percentile(col_data, 25)\n",
    "Q3 = np.percentile(col_data, 75)\n",
    "IQR = Q3 - Q1\n",
    "lower_bound = Q1 - 1.5 * IQR\n",
    "upper_bound = Q3 + 1.5 * IQR\n",
    "\n",
    "outliers = (col_data < lower_bound) | (col_data > upper_bound)\n",
    "\n",
    "# Output statistical value\n",
    "print(\"Mean of column:\", mean_value)\n",
    "print(\"Median of column:\", median_value)\n",
    "print(\"Standard deviation of column:\", std_value)\n",
    "\n",
    "sorted_data = np.unique(np.sort(col_data))\n",
    "lowest_value = sorted_data[:3]\n",
    "highest_value = sorted_data[-3:]\n",
    "\n",
    "print(\"Three lowest value for column:\", lowest_value)\n",
    "print(\"Three highest value for column:\", highest_value)\n"
   ],
   "metadata": {
    "collapsed": false,
    "ExecuteTime": {
     "end_time": "2025-02-11T08:16:04.977428600Z",
     "start_time": "2025-02-11T08:16:04.968401300Z"
    }
   },
   "id": "8eb4edf47c4ba46a"
  },
  {
   "cell_type": "code",
   "execution_count": 2,
   "outputs": [],
   "source": [],
   "metadata": {
    "collapsed": false,
    "ExecuteTime": {
     "end_time": "2025-02-11T08:16:04.980774900Z",
     "start_time": "2025-02-11T08:16:04.977428600Z"
    }
   },
   "id": "fe54cfe9196573ce"
  }
 ],
 "metadata": {
  "kernelspec": {
   "display_name": "Python 3",
   "language": "python",
   "name": "python3"
  },
  "language_info": {
   "codemirror_mode": {
    "name": "ipython",
    "version": 2
   },
   "file_extension": ".py",
   "mimetype": "text/x-python",
   "name": "python",
   "nbconvert_exporter": "python",
   "pygments_lexer": "ipython2",
   "version": "2.7.6"
  }
 },
 "nbformat": 4,
 "nbformat_minor": 5
}

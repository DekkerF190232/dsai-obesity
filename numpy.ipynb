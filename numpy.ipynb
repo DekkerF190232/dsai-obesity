{
 "cells": [
  {
   "cell_type": "markdown",
   "source": [
    "## Load Data"
   ],
   "metadata": {
    "collapsed": false
   },
   "id": "add1eff26e3bc8c"
  },
  {
   "cell_type": "code",
   "execution_count": 4,
   "id": "initial_id",
   "metadata": {
    "collapsed": true,
    "ExecuteTime": {
     "end_time": "2024-10-10T17:50:48.254840800Z",
     "start_time": "2024-10-10T17:50:48.224836600Z"
    }
   },
   "outputs": [],
   "source": [
    "import numpy as np\n",
    "\n",
    "# Load the data from the user-provided text into a numpy array\n",
    "data = \"\"\n",
    "\n",
    "file_path = 'Obesity_Dataset/Obesity_Dataset.csv'\n",
    "with open(file_path, 'r') as file:\n",
    "    data = file.read()\n",
    "\n",
    "# Split the data into rows and then columns (assuming the CSV uses commas)\n",
    "lines = data.splitlines()\n",
    "columns = [\n",
    "    \"Sex\", \"Age\", \"Height\", \"Overweight_Obese_Family\", \"Consumption_of_Fast_Food\",\n",
    "    \"Frequency_of_Consuming_Vegetables\", \"Number_of_Main_Meals_Daily\", \"Food_Intake_Between_Meals\",\n",
    "    \"Smoking\", \"Liquid_Intake_Daily\", \"Calculation_of_Calorie_Intake\", \"Physical_Exercise\",\n",
    "    \"Schedule_Dedicated_to_Technology\", \"Type_of_Transportation_Used\", \"Class\"\n",
    "]\n",
    "\n",
    "rows = [line.split(',') for line in lines]\n",
    "\n",
    "data_np = np.array(rows)\n",
    "\n",
    "numeric_data = data_np.astype(float)"
   ]
  },
  {
   "cell_type": "markdown",
   "source": [
    "## Analyze Data"
   ],
   "metadata": {
    "collapsed": false
   },
   "id": "47af04853335a799"
  },
  {
   "cell_type": "code",
   "execution_count": 84,
   "outputs": [
    {
     "name": "stdout",
     "output_type": "stream",
     "text": [
      "Column: Age\n",
      "Mean of column: 33.11552795031056\n",
      "Median of column: 32.0\n",
      "Standard deviation of column: 9.832021199648462\n",
      "Three lowest value for column: [18. 19. 20.]\n",
      "Three highest value for column: [52. 53. 54.]\n"
     ]
    }
   ],
   "source": [
    "# col_data = data_np[2].astype(float)\n",
    "c = 1\n",
    "col_data = numeric_data[:, c]\n",
    "print(\"Column:\", columns[c])\n",
    "\n",
    "mean_value = np.mean(col_data)\n",
    "median_value = np.median(col_data)\n",
    "std_value = np.std(col_data)\n",
    "\n",
    "Q1 = np.percentile(col_data, 25)\n",
    "Q3 = np.percentile(col_data, 75)\n",
    "IQR = Q3 - Q1\n",
    "lower_bound = Q1 - 1.5 * IQR\n",
    "upper_bound = Q3 + 1.5 * IQR\n",
    "\n",
    "outliers = (col_data < lower_bound) | (col_data > upper_bound)\n",
    "\n",
    "# Output statistical value\n",
    "print(\"Mean of column:\", mean_value)\n",
    "print(\"Median of column:\", median_value)\n",
    "print(\"Standard deviation of column:\", std_value)\n",
    "\n",
    "sorted_data = np.unique(np.sort(col_data))\n",
    "lowest_value = sorted_data[:3]\n",
    "highest_value = sorted_data[-3:]\n",
    "\n",
    "print(\"Three lowest value for column:\", lowest_value)\n",
    "print(\"Three highest value for column:\", highest_value)\n"
   ],
   "metadata": {
    "collapsed": false,
    "ExecuteTime": {
     "end_time": "2024-10-10T18:04:33.788971Z",
     "start_time": "2024-10-10T18:04:33.759966900Z"
    }
   },
   "id": "8eb4edf47c4ba46a"
  },
  {
   "cell_type": "code",
   "execution_count": null,
   "outputs": [],
   "source": [],
   "metadata": {
    "collapsed": false
   },
   "id": "fe54cfe9196573ce"
  }
 ],
 "metadata": {
  "kernelspec": {
   "display_name": "Python 3",
   "language": "python",
   "name": "python3"
  },
  "language_info": {
   "codemirror_mode": {
    "name": "ipython",
    "version": 2
   },
   "file_extension": ".py",
   "mimetype": "text/x-python",
   "name": "python",
   "nbconvert_exporter": "python",
   "pygments_lexer": "ipython2",
   "version": "2.7.6"
  }
 },
 "nbformat": 4,
 "nbformat_minor": 5
}
